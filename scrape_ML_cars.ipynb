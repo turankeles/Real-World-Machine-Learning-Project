{
  "nbformat": 4,
  "nbformat_minor": 0,
  "metadata": {
    "colab": {
      "name": "scrape_ML_cars.ipynb",
      "provenance": []
    },
    "kernelspec": {
      "name": "python3",
      "display_name": "Python 3"
    },
    "language_info": {
      "name": "python"
    }
  },
  "cells": [
    {
      "cell_type": "code",
      "execution_count": null,
      "metadata": {
        "id": "w9x68NalhHy5"
      },
      "outputs": [],
      "source": [
        "# scrape automation and data cleaning\n",
        "from selenium import webdriver \n",
        "from selenium.webdriver.common.keys import Keys \n",
        "from bs4 import BeautifulSoup \n",
        "import requests\n",
        "import pandas as pd",
        "import numpy as np",
        "import matplotlib.pyplot as plt",
        "plt.style.use("seaborn")",
        "\n",
        "\n",
        "mile,price,title,transmission,mpg,engine=[[] for i in range(6)]\n",
        "\n",
        "base_url=\"https://www.cars.com\"\n",
        "driver=webdriver.Chrome(\"C:/chromedriver.exe\")\n",
        "page=1\n",
        "#scrape\n",
        "for i in range(250):\n",
        "    url=f\"https://www.cars.com/shopping/results/?page={page}&page_size=20&list_price_max=&makes[]=&maximum_distance=all&models[]=&stock_type=all&zip=\"\n",
        "    \n",
        "    driver.get(url)\n",
        "    time.sleep(1)\n",
        "    driver.maximize_window()\n",
        "    source=driver.page_source\n",
        "    soup=BeautifulSoup(source,\"html.parser\")\n",
        "    \n",
        "    for i in soup.findAll(\"div\",class_=\"vehicle-details\"):\n",
        "        mode=i.findAll(\"a\",class_=\"vehicle-card-link js-gallery-click-link\")\n",
        "        url1=base_url+mode[0][\"href\"]\n",
        "        driver.get(url1)\n",
        "        time.sleep(1)\n",
        "        source1=driver.page_source\n",
        "        soup1=BeautifulSoup(source1,\"html.parser\")\n",
        "        trans=[soup1.findAll(\"dd\")[i].text.strip(\"\\n\") for i in range(10) ][5]\n",
        "        transmission.append(trans)\n",
        "        engin=[soup1.findAll(\"dd\")[i].text.strip(\"\\n\") for i in range(10) ][6]\n",
        "        engine.append(engin)\n",
        "        horse_p=[soup1.findAll(\"dd\")[i].text.strip(\"\\n\") for i in range(10) ][3].replace(\"\\n\\n\",\"\")[:6]\n",
        "        mpg.append(horse_p)\n",
        "        titl=soup1.findAll(\"h1\",class_=\"listing-title\")[0].text\n",
        "        mileage=soup1.findAll(\"div\",class_=\"listing-mileage\")[0].text.strip(\" mi.\").replace(\",\",\"\")\n",
        "        pric=soup1.findAll(\"span\",class_=\"primary-price\")[0].text.strip(\"$\").replace(\",\",\"\")\n",
        "        title.append(titl)\n",
        "        price.append(pric)\n",
        "        mile.append(mileage)\n",
        "    if page%10==0:\n",
        "      print(page)    \n",
        "    page+=1    \n",
        "    "
      ]
    },
    {
      "cell_type": "code",
      "source": [
        "from sklearn.model_selection import train_test_split\n",
        "from sklearn.metrics import accuracy_score\n",
        "from sklearn.tree import DecisionTreeClassifier\n",
        "from sklearn.svm import SVC\n",
        "from sklearn.naive_bayes import GaussianNB"
      ],
      "metadata": {
        "id": "h-cIIzWShIvK"
      },
      "execution_count": 2,
      "outputs": []
    },
    {
      "cell_type": "code",
      "source": [
        "# Feature extraction\n",
        "df=pd.DataFrame([title,mile,price,transmission,mpg,engine]).T\n",
        "df=df.iloc[:,1:]\n",
        "\n",
        "df.columns=[\"title\",\"mile\",\"price\",\"transmission\",\"mpg\",\"engine\"]\n",
        "df[\"car\"]=[i.split()[1] for i in df.title]\n",
        "df[\"year\"]=[int(i.split()[0]) for i in df.title]\n",
        "df[\"v_engine\"]=[(i.split()[0].strip(\"L\")) for i in df.engine] \n",
        "df[\"series\"]=[i.split()[2] for i in df.title]#Extracting car series\n",
        "\n",
        "#Encoding\n",
        "from sklearn.preprocessing import LabelEncoder\n",
        "encode=LabelEncoder()\n",
        "df[\"encode_series\"]=(encode.fit_transform(df.series)) \n",
        "mpeg=[(i.split()[0][:2].strip()) if '0–' not in i or  '–' not in i else 15 for i in df.mpg] #Taking the first number of mpg\n",
        "mpge=[]\n",
        "for i in mpeg:\n",
        "  if i=='–':\n",
        "    mpge.append(15)\n",
        "  else:\n",
        "    mpge.append(int(i))  \n",
        "df[\"mpge\"]=mpge    \n",
        "df[\"vengine\"]=[float(i) if \".\" in i else 2 for i in df.v_engine] #quantifying envine size\n",
        "df[\"price\"] =[int(i) if i!=\"Not Priced\" else np.nan for i in df.price ]\n",
        "df.dropna(inplace=True)\n",
        "print(df.shape)\n",
        "\n",
        "# Decision tree\n",
        "tree=DecisionTreeClassifier()\n",
        "X,y=df.loc[:,[\"mile\",\"price\",\"year\",\"vengine\",\"mpge\",\"encode_series\"]].values,df.car\n",
        "xtrain,xtest,ytrain,ytest=train_test_split(X,y,test_size=0.25)\n",
        "\n",
        "# Try for over 96% accuracy\n",
        "# Save the model for later usage\n",
        "while True:\n",
        "  xtrain,xtest,ytrain,ytest=train_test_split(X,y,test_size=0.2)\n",
        "  tree.fit(xtrain,ytrain)\n",
        "  pred_tree=tree.predict(xtest)\n",
        "  score =(accuracy_score(pred_tree,ytest))\n",
        "  if score>=0.96:\n",
        "    import pickle\n",
        "    pickle.dump(tree,open(\"decisiontree.sav\",\"wb\"))\n",
        "    print(score)\n",
        "    break"
      ],
      "metadata": {
        "id": "hbOcitCGhIyE"
      },
      "execution_count": null,
      "outputs": []
    },
    {
      "cell_type": "code",
      "source": [
        "# Creating a function for any ML classification algorithm\n",
        "import matplotlib.pyplot as plt\n",
        "plt.style.use(\"seaborn\")\n",
        "def classification(ML_classifier,iteration=100,plot=True):\n",
        "  classifier=ML_classifier()\n",
        "  score=[]\n",
        "  for i in range(iteration):\n",
        "    xtrain,xtest,ytrain,ytest=train_test_split(X,y,test_size=0.2)\n",
        "    classifier.fit(xtrain,ytrain)\n",
        "    pred=classifier.predict(xtest)\n",
        "    score.append(accuracy_score(pred,ytest))\n",
        "  print(\" maximum accuracy:\",max(score),\"\\n\",\"minimum accuracy\",min(score))\n",
        "  \n",
        "  if plot:\n",
        "    plt.plot(score,label=str(classifier)[:-2])\n",
        "    plt.xlabel(\"iteration\",fontsize=14)\n",
        "    plt.ylabel(\"accuracy\",fontsize=14)\n",
        "    plt.title(str(classifier)[:-2]+\" \"+\"Accuracy (%)\")\n",
        "    plt.legend();\n",
        "\n",
        "classification(DecisionTreeClassifier)"
      ],
      "metadata": {
        "id": "5avOlSE-hI1O"
      },
      "execution_count": null,
      "outputs": []
    },
    {
      "cell_type": "code",
      "source": [
        "#Further testing\n",
        "train_data=df.iloc[:2400,:]\n",
        "train_x=train_data.loc[:,[\"mile\",\"price\",\"year\",\"vengine\",\"mpge\",\"encode_series\"]]\n",
        "train_y=train_data.car\n",
        "test_data=df.iloc[2401:,:]\n",
        "test_x=test_data.loc[:,[\"mile\",\"price\",\"year\",\"vengine\",\"mpge\",\"encode_series\"]]\n",
        "test_y=test_data.car\n",
        "tree.fit(train_x,train_y)\n",
        "accuracy_score(tree.predict(test_x),test_y)\n"
      ],
      "metadata": {
        "id": "q79fJN8f8wQI"
      },
      "execution_count": null,
      "outputs": []
    },
    {
      "cell_type": "code",
      "source": [
        ""
      ],
      "metadata": {
        "id": "0hbuM1enhI34"
      },
      "execution_count": null,
      "outputs": []
    },
    {
      "cell_type": "code",
      "source": [
        ""
      ],
      "metadata": {
        "id": "8sd-GcQThI64"
      },
      "execution_count": null,
      "outputs": []
    },
    {
      "cell_type": "code",
      "source": [
        ""
      ],
      "metadata": {
        "id": "9lg1jsCnhI9z"
      },
      "execution_count": null,
      "outputs": []
    },
    {
      "cell_type": "code",
      "source": [
        ""
      ],
      "metadata": {
        "id": "lWq_0boPhJA7"
      },
      "execution_count": null,
      "outputs": []
    },
    {
      "cell_type": "code",
      "source": [
        ""
      ],
      "metadata": {
        "id": "-5ckpvjYhJD5"
      },
      "execution_count": null,
      "outputs": []
    },
    {
      "cell_type": "code",
      "source": [
        ""
      ],
      "metadata": {
        "id": "G4ybkyg4hJG7"
      },
      "execution_count": null,
      "outputs": []
    }
  ]
}
